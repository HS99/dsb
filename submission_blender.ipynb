{
 "cells": [
  {
   "cell_type": "code",
   "execution_count": 1,
   "metadata": {
    "collapsed": false
   },
   "outputs": [],
   "source": [
    "import numpy as np\n",
    "import pandas as pd\n",
    "import os"
   ]
  },
  {
   "cell_type": "code",
   "execution_count": 2,
   "metadata": {
    "collapsed": false
   },
   "outputs": [],
   "source": [
    "num_subs = 2.0\n",
    "id_col = 'id'\n",
    "base_path = 'submissions/'"
   ]
  },
  {
   "cell_type": "code",
   "execution_count": 3,
   "metadata": {
    "collapsed": false
   },
   "outputs": [
    {
     "data": {
      "text/html": [
       "<div>\n",
       "<table border=\"1\" class=\"dataframe\">\n",
       "  <thead>\n",
       "    <tr style=\"text-align: right;\">\n",
       "      <th></th>\n",
       "      <th>id</th>\n",
       "      <th>cancer</th>\n",
       "    </tr>\n",
       "  </thead>\n",
       "  <tbody>\n",
       "    <tr>\n",
       "      <th>0</th>\n",
       "      <td>026470d51482c93efc18b9803159c960</td>\n",
       "      <td>0.228542</td>\n",
       "    </tr>\n",
       "    <tr>\n",
       "      <th>1</th>\n",
       "      <td>031b7ec4fe96a3b035a8196264a8c8c3</td>\n",
       "      <td>0.316266</td>\n",
       "    </tr>\n",
       "    <tr>\n",
       "      <th>2</th>\n",
       "      <td>03bd22ed5858039af223c04993e9eb22</td>\n",
       "      <td>0.243177</td>\n",
       "    </tr>\n",
       "    <tr>\n",
       "      <th>3</th>\n",
       "      <td>06a90409e4fcea3e634748b967993531</td>\n",
       "      <td>0.380493</td>\n",
       "    </tr>\n",
       "    <tr>\n",
       "      <th>4</th>\n",
       "      <td>07b1defcfae5873ee1f03c90255eb170</td>\n",
       "      <td>0.282819</td>\n",
       "    </tr>\n",
       "  </tbody>\n",
       "</table>\n",
       "</div>"
      ],
      "text/plain": [
       "                                 id    cancer\n",
       "0  026470d51482c93efc18b9803159c960  0.228542\n",
       "1  031b7ec4fe96a3b035a8196264a8c8c3  0.316266\n",
       "2  03bd22ed5858039af223c04993e9eb22  0.243177\n",
       "3  06a90409e4fcea3e634748b967993531  0.380493\n",
       "4  07b1defcfae5873ee1f03c90255eb170  0.282819"
      ]
     },
     "execution_count": 3,
     "metadata": {},
     "output_type": "execute_result"
    }
   ],
   "source": [
    "dfs = []\n",
    "\n",
    "df1 = pd.read_csv(base_path + 'xgb/0.576-LB_xgb_.01LR_1750EST_MCD10_A.csv')\n",
    "dfs.append(df1)\n",
    "\n",
    "df2 = pd.read_csv(base_path + 'xgb/0.599-LB_xgb_.03LR_1650EST_MXD9_B.csv')\n",
    "dfs.append(df2)\n",
    "\n",
    "# df3 = pd.read_csv(base_path + '0.058-LB_264x264_5epoch_3aug_0.001lr_0.5dropout_0.01clip_3voters_A.csv')\n",
    "# dfs.append(df3)\n",
    "\n",
    "# df4 = pd.read_csv(base_path + '0.065-LB_300x300_6epoch_3aug_0.001lr_0.5dropout_0.01clip_1voters_C.csv')\n",
    "# dfs.append(df4)\n",
    "\n",
    "# df5 = pd.read_csv(base_path + '.csv')\n",
    "# dfs.append(df5)\n",
    "\n",
    "# df6 = pd.read_csv(base_path + '.csv')\n",
    "# dfs.append(df6)\n",
    "\n",
    "df1.head()"
   ]
  },
  {
   "cell_type": "code",
   "execution_count": 4,
   "metadata": {
    "collapsed": false
   },
   "outputs": [
    {
     "data": {
      "text/html": [
       "<div>\n",
       "<table border=\"1\" class=\"dataframe\">\n",
       "  <thead>\n",
       "    <tr style=\"text-align: right;\">\n",
       "      <th></th>\n",
       "      <th>id</th>\n",
       "      <th>cancer</th>\n",
       "    </tr>\n",
       "  </thead>\n",
       "  <tbody>\n",
       "    <tr>\n",
       "      <th>0</th>\n",
       "      <td>026470d51482c93efc18b9803159c960</td>\n",
       "      <td>0.0</td>\n",
       "    </tr>\n",
       "    <tr>\n",
       "      <th>1</th>\n",
       "      <td>031b7ec4fe96a3b035a8196264a8c8c3</td>\n",
       "      <td>0.0</td>\n",
       "    </tr>\n",
       "    <tr>\n",
       "      <th>2</th>\n",
       "      <td>03bd22ed5858039af223c04993e9eb22</td>\n",
       "      <td>0.0</td>\n",
       "    </tr>\n",
       "    <tr>\n",
       "      <th>3</th>\n",
       "      <td>06a90409e4fcea3e634748b967993531</td>\n",
       "      <td>0.0</td>\n",
       "    </tr>\n",
       "    <tr>\n",
       "      <th>4</th>\n",
       "      <td>07b1defcfae5873ee1f03c90255eb170</td>\n",
       "      <td>0.0</td>\n",
       "    </tr>\n",
       "  </tbody>\n",
       "</table>\n",
       "</div>"
      ],
      "text/plain": [
       "                                 id  cancer\n",
       "0  026470d51482c93efc18b9803159c960     0.0\n",
       "1  031b7ec4fe96a3b035a8196264a8c8c3     0.0\n",
       "2  03bd22ed5858039af223c04993e9eb22     0.0\n",
       "3  06a90409e4fcea3e634748b967993531     0.0\n",
       "4  07b1defcfae5873ee1f03c90255eb170     0.0"
      ]
     },
     "execution_count": 4,
     "metadata": {},
     "output_type": "execute_result"
    }
   ],
   "source": [
    "def create_ave_df(df_list):\n",
    "    sample = df_list[0]\n",
    "    ave_df = pd.DataFrame(columns=sample.columns)\n",
    "    ave_df[id_col] = sample[id_col]\n",
    "    ave_df.fillna(0.0, inplace=True)\n",
    "    return ave_df\n",
    "\n",
    "ave_df = create_ave_df(dfs)\n",
    "\n",
    "ave_df.head()"
   ]
  },
  {
   "cell_type": "code",
   "execution_count": 5,
   "metadata": {
    "collapsed": false
   },
   "outputs": [
    {
     "data": {
      "text/html": [
       "<div>\n",
       "<table border=\"1\" class=\"dataframe\">\n",
       "  <thead>\n",
       "    <tr style=\"text-align: right;\">\n",
       "      <th></th>\n",
       "      <th>id</th>\n",
       "      <th>cancer</th>\n",
       "    </tr>\n",
       "  </thead>\n",
       "  <tbody>\n",
       "    <tr>\n",
       "      <th>0</th>\n",
       "      <td>026470d51482c93efc18b9803159c960</td>\n",
       "      <td>0.167498</td>\n",
       "    </tr>\n",
       "    <tr>\n",
       "      <th>1</th>\n",
       "      <td>031b7ec4fe96a3b035a8196264a8c8c3</td>\n",
       "      <td>0.309935</td>\n",
       "    </tr>\n",
       "    <tr>\n",
       "      <th>2</th>\n",
       "      <td>03bd22ed5858039af223c04993e9eb22</td>\n",
       "      <td>0.241118</td>\n",
       "    </tr>\n",
       "    <tr>\n",
       "      <th>3</th>\n",
       "      <td>06a90409e4fcea3e634748b967993531</td>\n",
       "      <td>0.326073</td>\n",
       "    </tr>\n",
       "    <tr>\n",
       "      <th>4</th>\n",
       "      <td>07b1defcfae5873ee1f03c90255eb170</td>\n",
       "      <td>0.317292</td>\n",
       "    </tr>\n",
       "  </tbody>\n",
       "</table>\n",
       "</div>"
      ],
      "text/plain": [
       "                                 id    cancer\n",
       "0  026470d51482c93efc18b9803159c960  0.167498\n",
       "1  031b7ec4fe96a3b035a8196264a8c8c3  0.309935\n",
       "2  03bd22ed5858039af223c04993e9eb22  0.241118\n",
       "3  06a90409e4fcea3e634748b967993531  0.326073\n",
       "4  07b1defcfae5873ee1f03c90255eb170  0.317292"
      ]
     },
     "execution_count": 5,
     "metadata": {},
     "output_type": "execute_result"
    }
   ],
   "source": [
    "def populate_ave_df(ave_df, df_list):\n",
    "    for col in ave_df.columns.values:\n",
    "        if col == id_col:\n",
    "            continue\n",
    "        for df in df_list:\n",
    "            ave_df[col] = ave_df[col] + df[col]\n",
    "        ave_df[col] = ave_df[col] / num_subs\n",
    "    return ave_df\n",
    "\n",
    "ave_df = populate_ave_df(ave_df, dfs)\n",
    "ave_df.head()"
   ]
  },
  {
   "cell_type": "code",
   "execution_count": 7,
   "metadata": {
    "collapsed": false
   },
   "outputs": [],
   "source": [
    "def generate_new_submission(ave_df):\n",
    "    ave_df.to_csv(base_path + '/-LB_.csv', index=False)\n",
    "    \n",
    "generate_new_submission(ave_df)"
   ]
  },
  {
   "cell_type": "markdown",
   "metadata": {},
   "source": [
    "## Calculating correlation between submissions"
   ]
  },
  {
   "cell_type": "code",
   "execution_count": null,
   "metadata": {
    "collapsed": false
   },
   "outputs": [],
   "source": [
    "# dfs = []\n",
    "\n",
    "# for root, dirs, files in os.walk(base_path):\n",
    "#     for fn in [os.path.join(root, name) for name in files]:\n",
    "# #         print fn\n",
    "#         df = pd.read_csv(fn)\n",
    "#         dfs.append(df)\n",
    "        \n",
    "# print len(dfs)"
   ]
  },
  {
   "cell_type": "code",
   "execution_count": null,
   "metadata": {
    "collapsed": false
   },
   "outputs": [],
   "source": [
    "### using sequential comparisons\n",
    "\n",
    "# filtered_dfs = []\n",
    "\n",
    "# for i in range(len(dfs)-1):\n",
    "#     saved_ids = dfs[i][id_col]\n",
    "#     dfa = dfs[i].drop(id_col, axis=1)\n",
    "#     dfb = dfs[i+1].drop(id_col, axis=1)\n",
    "#     corr = dfa.corrwith(dfb).sum()/dfa.shape[1]\n",
    "# #     print corr\n",
    "    \n",
    "#     if corr < .7:\n",
    "#         dfa[id_col] = saved_ids\n",
    "#         filtered_dfs.append(dfa)\n",
    "\n",
    "# num_subs = len(filtered_dfs)\n",
    "# print \"number meeting criteria:\", num_subs"
   ]
  },
  {
   "cell_type": "code",
   "execution_count": null,
   "metadata": {
    "collapsed": false
   },
   "outputs": [],
   "source": [
    "### using averages\n",
    "\n",
    "# filtered_dfs = []\n",
    "\n",
    "# for dfa in dfs:\n",
    "#     saved_ids = dfa[id_col]\n",
    "#     dfa = dfa.drop(id_col, axis=1)\n",
    "#     corr_sum = 0.\n",
    "#     for dfb in dfs:\n",
    "#         dfb = dfb.drop(id_col, axis=1)\n",
    "#         corr = dfa.corrwith(dfb).sum()/dfa.shape[1]\n",
    "#         corr_sum += corr\n",
    "#     corr_avg = corr_sum/len(dfs)\n",
    "# #     print corr_avg\n",
    "    \n",
    "#     if corr_avg < .95:\n",
    "#         dfa[id_col] = saved_ids\n",
    "#         filtered_dfs.append(dfa)\n",
    "\n",
    "# num_subs = len(filtered_dfs)\n",
    "# print \"number meeting criteria:\", num_subs"
   ]
  },
  {
   "cell_type": "code",
   "execution_count": null,
   "metadata": {
    "collapsed": false
   },
   "outputs": [],
   "source": [
    "# ave_df = create_ave_df(filtered_dfs)\n",
    "# ave_df = populate_ave_df(ave_df, filtered_dfs)\n",
    "\n",
    "# ave_df.head()"
   ]
  },
  {
   "cell_type": "code",
   "execution_count": null,
   "metadata": {
    "collapsed": true
   },
   "outputs": [],
   "source": [
    "# generate_new_submission(ave_df)"
   ]
  }
 ],
 "metadata": {
  "anaconda-cloud": {},
  "kernelspec": {
   "display_name": "Python [conda root]",
   "language": "python",
   "name": "conda-root-py"
  },
  "language_info": {
   "codemirror_mode": {
    "name": "ipython",
    "version": 3
   },
   "file_extension": ".py",
   "mimetype": "text/x-python",
   "name": "python",
   "nbconvert_exporter": "python",
   "pygments_lexer": "ipython3",
   "version": "3.5.2"
  }
 },
 "nbformat": 4,
 "nbformat_minor": 0
}
